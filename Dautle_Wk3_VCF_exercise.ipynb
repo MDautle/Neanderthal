{
 "cells": [
  {
   "cell_type": "markdown",
   "id": "daafb389-6efc-4acc-b820-89235d1eb9df",
   "metadata": {},
   "source": [
    "# Neanderthal vs Human Genomes - VCF Exercise, Wk3 Topics in Bioinformatics \n",
    "Madison Dautle\n",
    "Created on 09.16.2025 \n",
    "Last updated on 09.16.2025"
   ]
  },
  {
   "cell_type": "code",
   "execution_count": 134,
   "id": "af10d368-c3c5-4601-9051-fd76a849b10b",
   "metadata": {},
   "outputs": [],
   "source": [
    "import os\n",
    "import subprocess \n",
    "import pandas as pd\n",
    "import matplotlib.pyplot as plt\n",
    "import seaborn as sns\n",
    "import math\n",
    "import time\n",
    "from itertools import product \n",
    "import numpy as np"
   ]
  },
  {
   "cell_type": "code",
   "execution_count": 135,
   "id": "adc51bf4-7f74-48c7-bec2-2ff50f1e2815",
   "metadata": {
    "scrolled": true
   },
   "outputs": [],
   "source": [
    "#Download and unpack file, if necessary \n",
    "file_path = \"AltaiNea.hg19_1000g.22.mod.vcf\"\n",
    "gz_path = file_path + '.gz'\n",
    "chunk_size = 100000\n",
    "\n",
    "if not os.path.exists(file_path): \n",
    "    if not os.path.exists(gz_path):\n",
    "        download = 'wget http://cdna.eva.mpg.de/neandertal/altai/AltaiNeandertal/VCF/AltaiNea.hg19_1000g.22.mod.vcf.gz' \n",
    "        os.system(download)\n",
    "        \n",
    "    unzip = f'gunzip -k {file_path}.gz' \n",
    "    os.system(unzip)"
   ]
  },
  {
   "cell_type": "code",
   "execution_count": 136,
   "id": "f7139f15-ab39-4fe0-bcdd-3e515fd03bad",
   "metadata": {},
   "outputs": [
    {
     "name": "stdout",
     "output_type": "stream",
     "text": [
      "Minimum postion: 16050037\n",
      "Maximum position: 51244566\n",
      "Length to split: 35194529\n",
      "Total 100000 chunks to process: 352\n"
     ]
    }
   ],
   "source": [
    "#get information about file to set up dataframes to hold results\n",
    "command = f\"\"\"awk -F'\\t' '\n",
    "  $0 !~ /^#/ {{\n",
    "    if (first == \"\") first = $0\n",
    "    last = $0\n",
    "  }}\n",
    "  END {{\n",
    "    print first\n",
    "    print last\n",
    "  }}\n",
    "' \"{file_path}\" \"\"\"\n",
    "\n",
    "start_end_lines= subprocess.run(command, shell=True, capture_output=True, text=True)\n",
    "min_pos_line, max_pos_line = start_end_lines.stdout.strip().split(\"\\n\")\n",
    "min_pos = int(min_pos_line.split(\"\\t\")[1])\n",
    "max_pos = int(max_pos_line.split(\"\\t\")[1])\n",
    "total_length = max_pos-min_pos\n",
    "num_chunks = math.ceil(total_length/chunk_size)\n",
    "\n",
    "print(\"Minimum postion:\" , min_pos)\n",
    "print(\"Maximum position:\", max_pos)\n",
    "print(\"Length to split:\", total_length)\n",
    "print(f\"Total {chunk_size} chunks to process:\", num_chunks)  "
   ]
  },
  {
   "cell_type": "code",
   "execution_count": 137,
   "id": "ffd2ed86-d280-49a3-bc4a-75ba2d81e4a4",
   "metadata": {
    "collapsed": true,
    "jupyter": {
     "outputs_hidden": true
    }
   },
   "outputs": [
    {
     "name": "stdout",
     "output_type": "stream",
     "text": [
      "   chunk  start_pos   end_pos  total_variation_ct  SNP_ct  \\\n",
      "0      1   16050037  16150036                   0       0   \n",
      "1      2   16150037  16250036                   0       0   \n",
      "2      3   16250037  16350036                   0       0   \n",
      "3      4   16350037  16450036                   0       0   \n",
      "4      5   16450037  16550036                   0       0   \n",
      "\n",
      "   neanderthal_indel_ct  human_indel_ct  \n",
      "0                     0               0  \n",
      "1                     0               0  \n",
      "2                     0               0  \n",
      "3                     0               0  \n",
      "4                     0               0  \n",
      "   A  C  T  G\n",
      "A  0  0  0  0\n",
      "C  0  0  0  0\n",
      "T  0  0  0  0\n",
      "G  0  0  0  0\n",
      "[('A', '.'), ('A', 'C'), ('A', 'T'), ('A', 'G'), ('C', 'A'), ('C', '.'), ('C', 'T'), ('C', 'G'), ('T', 'A'), ('T', 'C'), ('T', '.'), ('T', 'G'), ('G', 'A'), ('G', 'C'), ('G', 'T'), ('G', '.')]\n"
     ]
    }
   ],
   "source": [
    "#initalize dataframes for result storage\n",
    "chunk_pos_df = pd.DataFrame({\n",
    "    'chunk': range(1,num_chunks+1),\n",
    "    'start_pos': [min_pos + i*chunk_size for i in range(num_chunks)], \n",
    "    'end_pos': [min(min_pos + (i+1)*chunk_size -1, max_pos) for i in range(num_chunks)],\n",
    "    'total_variation_ct': 0,\n",
    "    'SNP_ct': 0,\n",
    "    'neanderthal_indel_ct': 0,\n",
    "    'human_indel_ct': 0\n",
    "}) \n",
    "print(chunk_pos_df.head())\n",
    "\n",
    "nucleotides = ['A','C','T','G']\n",
    "nucleotide_pairs = list(product(nucleotides, repeat=2))\n",
    "nucleotide_pairs = [(k, '.' if k == j else j) for k, j in nucleotide_pairs]\n",
    "SNP_type_df = pd.DataFrame(0, index=nucleotides, columns=nucleotides)\n",
    "print(SNP_type_df)\n",
    "print(nucleotide_pairs)"
   ]
  },
  {
   "cell_type": "code",
   "execution_count": 138,
   "id": "41f8b400-a190-416d-b23f-87d78fb80618",
   "metadata": {},
   "outputs": [
    {
     "name": "stdout",
     "output_type": "stream",
     "text": [
      "Time to read file: 12.563441753387451 sec\n",
      "Total number of rows in VCF file: 34862833\n",
      "Total number of missing rows by position: 331696\n"
     ]
    }
   ],
   "source": [
    "start_time = time.time()\n",
    "vcf=pd.read_csv(file_path, comment='#', sep='\\t', usecols=[1,3,4], header = None)\n",
    "vcf.columns = ['pos','Human','Neanderthal']\n",
    "vcf.head()\n",
    "end_time = time.time() \n",
    "print(f\"Time to read file: {(end_time-start_time)} sec\")\n",
    "total_vcf_rows = len(vcf)\n",
    "print(f\"Total number of rows in VCF file: {total_vcf_rows}\")\n",
    "missing_vcf_rows_byPos = print(f\"Total number of missing rows by position: {total_length - total_vcf_rows}\")"
   ]
  },
  {
   "cell_type": "code",
   "execution_count": null,
   "id": "279c2a97-0532-4d00-ac86-23f760a80ed5",
   "metadata": {},
   "outputs": [],
   "source": [
    "start_time = time.time()\n",
    "for idx, row in chunk_pos_df.iterrows():\n",
    "    #select rows in this chunk\n",
    "    chunk_rows = vcf[(vcf['pos'] >= row['start_pos']) & (vcf['pos'] <= row['end_pos'])]\n",
    "    #count total SNPs in chunk by counting how many rows do not have the same (.) as the reference (Neanderthal column)\n",
    "    chunk_var = chunk_rows[(chunk_rows['Neanderthal'] != '.')]\n",
    "    variation_ct = len(chunk_var)\n",
    "    chunk_pos_df.at[idx, 'variation_ct'] = variation_ct\n",
    "\n",
    "    \n",
    "    #SNP count - binned\n",
    "    snp_count = ((chunk_rows['Neanderthal'].isin(nucleotides))).sum()\n",
    "    chunk_pos_df.at[idx, 'SNP_ct'] = snp_count\n",
    "\n",
    "    #neanderthal indel count - binned\n",
    "    neanderthal_indel_count = ((chunk_rows['Neanderthal'] != '.') & \n",
    "                       (chunk_rows['Neanderthal'].str.len() > 1)).sum()\n",
    "    chunk_pos_df.at[idx, 'neanderthal_indel_ct'] = neanderthal_indel_count\n",
    "\n",
    "    # Human indel count - binned\n",
    "    human_indel_count = ((chunk_rows['Neanderthal'].isin(nucleotides)) & \n",
    "                         (chunk_rows['Human'].str.len() > 1)).sum()\n",
    "    chunk_pos_df.at[idx, 'human_indel_ct'] = human_indel_count\n",
    "\n",
    "    \n",
    "    #SNP type indentification and counting\n",
    "    for human_letter, neanderthal_letter in nucleotide_pairs: \n",
    "        SNP_type_rows = chunk_rows[(chunk_rows['Human'] == human_letter) & (chunk_rows['Neanderthal'] == neanderthal_letter)]\n",
    "        if neanderthal_letter == '.':\n",
    "            neanderthal_letter=human_letter\n",
    "        SNP_type_df.at[human_letter, neanderthal_letter] += len(SNP_type_rows)\n",
    "\n",
    "total_variable_positions = chunk_pos_df['SNP_ct'].sum()\n",
    "positions_in_SNP_type_df = SNP_type_df.sum().sum()\n",
    "SNPs_in_SNP_type_df = SNP_type_df.values.sum() - np.trace(SNP_type_df.values)\n",
    "\n",
    "end_time = time.time() \n",
    "\n",
    "#print(chunk_pos_df)\n",
    "print(f\"Total SNPs + indels: {total_variable_positions}\")\n",
    "print(SNP_type_df)\n",
    "print(f\"Positions captured in SNP_type_df: {positions_in_SNP_type_df}\") \n",
    "print(f\"SNPs captured in SNP_type_df: {SNPs_in_SNP_type_df}\") #sanity check. Should match the total_snps\n",
    "print(f\"Time to count & classify SNPs: {(end_time-start_time)/60} min\")"
   ]
  },
  {
   "cell_type": "code",
   "execution_count": null,
   "id": "5f7a100d-8622-45b4-ad68-121116611864",
   "metadata": {},
   "outputs": [],
   "source": [
    "nucleotides.append('.')\n",
    "mismatch_rows_neanderthal = vcf[(~vcf['Neanderthal'].isin(nucleotides))]; print(mismatch_rows_neanderthal.head(5))\n",
    "mismatch_rows_human = vcf[(~vcf['Human'].isin(nucleotides))]; print(mismatch_rows_human.head(5))\n",
    "\n",
    "len_human_multimismatch = len(mismatch_rows_human)\n",
    "len_neanderthal_multimismatch = len(mismatch_rows_neanderthal)\n",
    "\n",
    "indels = len_human_multimismatch + len_neanderthal_multimismatch \n",
    "\n",
    "#print(total_vcf_rows)\n",
    "#print(positions_in_SNP_type_df)\n",
    "print(f\"Total number of conserved positions: {positions_in_SNP_type_df - SNPs_in_SNP_type_df}\")\n",
    "print(f\"Total number of SNPs: {SNPs_in_SNP_type_df}\")\n",
    "print(f\"Total indels: {indels}\")\n",
    "\n",
    "print(f\"Sanity check: Total rows in VCF file - values in SNP table (SNPs and conserved positions) - multimismatches SHOULD =0) | Result: {total_vcf_rows - positions_in_SNP_type_df - indels}\") "
   ]
  },
  {
   "cell_type": "code",
   "execution_count": null,
   "id": "8863bd72-b079-46cd-a1e4-be184a0daf2b",
   "metadata": {},
   "outputs": [],
   "source": [
    "SNP_type_df.to_csv('substitution_matrix.tsv', sep='\\t', header=True, index=True)\n",
    "chunk_pos_df.to_csv(f'variablePositions_by_{chunk_size}bp_chunks.tsv', sep='\\t', header=True, index=False)\n",
    "mismatch_rows_neanderthal.to_csv('BONUS_IndelsNeanderthal.tsv', sep='\\t', header=True, index=False)\n",
    "mismatch_rows_human.to_csv('BONUS_IndelsHuman.tsv', sep='\\t', header=True, index=False)"
   ]
  },
  {
   "cell_type": "markdown",
   "id": "36f7dfae-4d2f-447e-8aca-965b8020d468",
   "metadata": {},
   "source": [
    "## Plot result "
   ]
  },
  {
   "cell_type": "code",
   "execution_count": null,
   "id": "728b60da-5bb3-4320-8452-428fe3240a51",
   "metadata": {},
   "outputs": [],
   "source": [
    "chunk_pos_df['rel_mid'] = (chunk_pos_df['start_pos'] + chunk_pos_df['end_pos']) // 2 - min_pos + 1\n",
    "#print(chunk_pos_df)\n",
    "\n",
    "plt.figure(figsize=(12, 6))\n",
    "sns.lineplot(\n",
    "    data=chunk_pos_df,\n",
    "    x='rel_mid',\n",
    "    y='SNP_ct',\n",
    "    marker=\"o\",\n",
    "    markersize=5,\n",
    "    markeredgewidth=0 \n",
    ")\n",
    "\n",
    "plt.xlim(0,max(chunk_pos_df['rel_mid'])+chunk_size/2)\n",
    "plt.xlabel(f\"Relative genomic position (bin midpoints, {chunk_size}bp)\")\n",
    "plt.ylabel(\"Variant count\")\n",
    "plt.title('Total Variable postion counts between Human and Neanderthals for Chromosme 22')\n",
    "plt.grid(True)\n",
    "plt.savefig(f'Variable_postions_binned{chunk_size}bp.png', dpi=300, bbox_inches=\"tight\")"
   ]
  },
  {
   "cell_type": "code",
   "execution_count": null,
   "id": "7c954ecf-132a-4bd4-b318-14244463490c",
   "metadata": {},
   "outputs": [],
   "source": [
    "plot_df = chunk_pos_df.melt(\n",
    "    id_vars=['rel_mid'],\n",
    "    value_vars=['SNP_ct', 'human_indel_ct', 'neanderthal_indel_ct'],\n",
    "    var_name='VariantType',\n",
    "    value_name='Count'\n",
    ")\n",
    "\n",
    "plt.figure(figsize=(12, 6))\n",
    "sns.lineplot(\n",
    "    data=plot_df,\n",
    "    x='rel_mid',\n",
    "    y='Count',\n",
    "    hue='VariantType' #removed the markers, too busy with 3 lines\n",
    ")\n",
    "\n",
    "plt.xlim(0,max(chunk_pos_df['rel_mid'])+chunk_size/2)\n",
    "plt.xlabel(f\"Relative genomic position (bin midpoints, {chunk_size}bp)\")\n",
    "plt.ylabel(\"Variant count\")\n",
    "plt.title('Total variable postion counts separated by indel and SNP between Human and Neanderthals for Chromosme 22')\n",
    "plt.grid(True)\n",
    "plt.grid(True)\n",
    "plt.legend(title=\"Variant type\")\n",
    "plt.savefig(f'BONUS_Variable_postions_binned{chunk_size}bp_Indel_SNP_separated.png', dpi=300, bbox_inches=\"tight\")"
   ]
  },
  {
   "cell_type": "code",
   "execution_count": null,
   "id": "ee136742-619e-45c8-af11-359512bb1376",
   "metadata": {},
   "outputs": [],
   "source": []
  }
 ],
 "metadata": {
  "kernelspec": {
   "display_name": "Python 3 (ipykernel)",
   "language": "python",
   "name": "python3"
  },
  "language_info": {
   "codemirror_mode": {
    "name": "ipython",
    "version": 3
   },
   "file_extension": ".py",
   "mimetype": "text/x-python",
   "name": "python",
   "nbconvert_exporter": "python",
   "pygments_lexer": "ipython3",
   "version": "3.13.5"
  }
 },
 "nbformat": 4,
 "nbformat_minor": 5
}
